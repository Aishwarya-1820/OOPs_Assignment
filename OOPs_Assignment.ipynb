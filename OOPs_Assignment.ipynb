{
 "cells": [
  {
   "cell_type": "markdown",
   "id": "857f4e59",
   "metadata": {},
   "source": [
    "Q1. Which function is used to open a file? What are the different modes of opening a file? Explain each mode \n",
    "of file opening."
   ]
  },
  {
   "cell_type": "markdown",
   "id": "5e4bf7af",
   "metadata": {},
   "source": [
    "    In Python, we use the open() method to open files.\n",
    "    r mode: Open a file for reading. (default)\n",
    "    w mode: Open a file for writing. Creates a new file if it does not exist or truncates the file if it exists.\n",
    "    x mode: Open a file for exclusive creation. If the file already exists, the operation fails.\n",
    "    a mode: Open a file for appending at the end of the file without truncating it. Creates a new file if it does not exist.\n",
    "    t mode: Open in text mode. (default)\n",
    "    b mode: Open in binary mode.\n",
    "    + mode: Open a file for updating. (reading and writing)\n",
    "    U mode: Universal newline mode.(deprecated)\n"
   ]
  },
  {
   "cell_type": "markdown",
   "id": "9b86da51",
   "metadata": {},
   "source": [
    "Q2. Why close() function is used? Why is it important to close a file?"
   ]
  },
  {
   "cell_type": "markdown",
   "id": "bc5959e8",
   "metadata": {},
   "source": [
    "    The close() method closes an open file. You should always close your files, in some cases, due to buffering, changes made to a file may not show until you close the file.\n",
    "    Because files are limited resources managed by the operating system, making sure files are closed after use will protect against hard-to-debug issues like running out of file handles or experiencing corrupted data."
   ]
  },
  {
   "cell_type": "markdown",
   "id": "076fe8e9",
   "metadata": {},
   "source": [
    "Q3. Write a python program to create a text file. Write ‘I want to become a Data Scientist’ in that file. Then \n",
    "close the file. Open this file and read the content of the file. "
   ]
  },
  {
   "cell_type": "code",
   "execution_count": 8,
   "id": "20a92ae4",
   "metadata": {},
   "outputs": [],
   "source": [
    "F = open(\"Test.text\", \"w\")"
   ]
  },
  {
   "cell_type": "code",
   "execution_count": 9,
   "id": "f7aa6988",
   "metadata": {},
   "outputs": [
    {
     "data": {
      "text/plain": [
       "33"
      ]
     },
     "execution_count": 9,
     "metadata": {},
     "output_type": "execute_result"
    }
   ],
   "source": [
    "F.write(\"I want to become a Data Scientist\")"
   ]
  },
  {
   "cell_type": "code",
   "execution_count": 10,
   "id": "1c1b7d6d",
   "metadata": {},
   "outputs": [],
   "source": [
    "F.close()"
   ]
  },
  {
   "cell_type": "code",
   "execution_count": 11,
   "id": "b44a300f",
   "metadata": {},
   "outputs": [],
   "source": [
    "Data = open(\"Test.text\", \"r\")"
   ]
  },
  {
   "cell_type": "code",
   "execution_count": 12,
   "id": "be8e7752",
   "metadata": {},
   "outputs": [
    {
     "data": {
      "text/plain": [
       "'I want to become a Data Scientist'"
      ]
     },
     "execution_count": 12,
     "metadata": {},
     "output_type": "execute_result"
    }
   ],
   "source": [
    "Data.read()"
   ]
  },
  {
   "cell_type": "markdown",
   "id": "e56da682",
   "metadata": {},
   "source": [
    "Q4. Explain the following with python code: read(), readline() and readlines()."
   ]
  },
  {
   "cell_type": "markdown",
   "id": "e7f4e4ff",
   "metadata": {},
   "source": [
    "# read()\n",
    "The read method reads the entire contents of a file and returns it as a string."
   ]
  },
  {
   "cell_type": "code",
   "execution_count": 10,
   "id": "913d6dec",
   "metadata": {},
   "outputs": [],
   "source": [
    "F = open(\"file.text\", \"w\")"
   ]
  },
  {
   "cell_type": "code",
   "execution_count": 11,
   "id": "d615de4e",
   "metadata": {},
   "outputs": [],
   "source": [
    "F = open(\"file.text\", \"r\")"
   ]
  },
  {
   "cell_type": "code",
   "execution_count": 12,
   "id": "76004a42",
   "metadata": {},
   "outputs": [
    {
     "name": "stdout",
     "output_type": "stream",
     "text": [
      "\n"
     ]
    }
   ],
   "source": [
    "with open(\"file.text\", \"r\") as file:\n",
    "    content = file.read()\n",
    "    print(content)\n"
   ]
  },
  {
   "cell_type": "markdown",
   "id": "96d52551",
   "metadata": {},
   "source": [
    "# readline()\n",
    "The readline method reads a single line from a file and returns it as a string. This means that if you use readline, you can read the contents of a file line by line, which can be useful for processing large files that do not fit in memory."
   ]
  },
  {
   "cell_type": "code",
   "execution_count": 13,
   "id": "5639a902",
   "metadata": {},
   "outputs": [],
   "source": [
    "F = open(\"file.text\", \"r\")"
   ]
  },
  {
   "cell_type": "code",
   "execution_count": 14,
   "id": "20eda0ae",
   "metadata": {},
   "outputs": [],
   "source": [
    "with open(\"file.text\", \"r\") as file:\n",
    "    line = file.readline()\n",
    "    while line:\n",
    "        print(line.strip())\n",
    "        line = file.readline()"
   ]
  },
  {
   "cell_type": "markdown",
   "id": "224c6211",
   "metadata": {},
   "source": [
    "# readlines()\n",
    "The readline method reads a single line from a file and returns it as a string, while the readlines method reads the entire contents of a file and returns it as a list of strings, where each element of the list is a single line of the file."
   ]
  },
  {
   "cell_type": "code",
   "execution_count": 15,
   "id": "62042f59",
   "metadata": {},
   "outputs": [
    {
     "name": "stdout",
     "output_type": "stream",
     "text": [
      "\n"
     ]
    }
   ],
   "source": [
    "with open(\"file.text\") as f:\n",
    "    line = f.readline()\n",
    "    print(line)# Prints the first line of the file\n"
   ]
  },
  {
   "cell_type": "markdown",
   "id": "ab6ca739",
   "metadata": {},
   "source": [
    "Q5. Explain why with statement is used with open(). What is the advantage of using with statement and \n",
    "open() together?"
   ]
  },
  {
   "cell_type": "markdown",
   "id": "5ce1ab4d",
   "metadata": {},
   "source": [
    "    The with statement works with the open() function to open a file. Unlike open() where you have to close the file with the close() method, the with statement closes the file for you without you telling it to. This is because the with statement calls 2 built-in methods behind the scene – __enter()__ and __exit()__ ."
   ]
  },
  {
   "cell_type": "markdown",
   "id": "aea4e0f7",
   "metadata": {},
   "source": [
    "    Save this answer. Show activity on this post. Using with means that the file will be closed as soon as you leave the block. This is beneficial because closing a file is something that can easily be forgotten and ties up resources that you no longer need."
   ]
  },
  {
   "cell_type": "markdown",
   "id": "ce446049",
   "metadata": {},
   "source": [
    "Q6. Explain the write() and writelines() functions. Give a suitable example."
   ]
  },
  {
   "cell_type": "markdown",
   "id": "f73f5ab4",
   "metadata": {},
   "source": [
    "# write() function\n",
    "The write() function will write the content in the file without adding any extra characters."
   ]
  },
  {
   "cell_type": "code",
   "execution_count": 16,
   "id": "ad952d89",
   "metadata": {},
   "outputs": [
    {
     "name": "stdout",
     "output_type": "stream",
     "text": [
      "Enter the name of the employee: Ram\n",
      "Enter the name of the employee: Akshay\n",
      "Enter the name of the employee: Rahul\n",
      "Data is written into the file.\n"
     ]
    }
   ],
   "source": [
    "\n",
    "file = open(\"Employees.txt\", \"w\")\n",
    "  \n",
    "for i in range(3):\n",
    "   name = input(\"Enter the name of the employee: \")\n",
    "   file.write(name)\n",
    "   file.write(\"\\n\")\n",
    "     \n",
    "file.close()\n",
    "  \n",
    "print(\"Data is written into the file.\")"
   ]
  },
  {
   "cell_type": "markdown",
   "id": "94fc1204",
   "metadata": {},
   "source": [
    "# writelines() function\n",
    "This function writes the content of a list to a file."
   ]
  },
  {
   "cell_type": "code",
   "execution_count": 18,
   "id": "60bdcb0c",
   "metadata": {},
   "outputs": [
    {
     "name": "stdout",
     "output_type": "stream",
     "text": [
      "Enter the name of the employee: Mahesh\n",
      "Enter the name of the employee: Akash\n",
      "Enter the name of the employee: Priya\n",
      "Data is written into the file.\n"
     ]
    }
   ],
   "source": [
    "file1 = open(\"Employees.txt\", \"w\")\n",
    "lst = []\n",
    "for i in range(3):\n",
    "    name = input(\"Enter the name of the employee: \")\n",
    "    lst.append(name + '\\n')\n",
    "    \n",
    "file1.writelines(lst)\n",
    "file1.close()\n",
    "print(\"Data is written into the file.\")\n"
   ]
  },
  {
   "cell_type": "code",
   "execution_count": null,
   "id": "049fd717",
   "metadata": {},
   "outputs": [],
   "source": []
  },
  {
   "cell_type": "code",
   "execution_count": null,
   "id": "ff24e382",
   "metadata": {},
   "outputs": [],
   "source": []
  }
 ],
 "metadata": {
  "kernelspec": {
   "display_name": "Python 3 (ipykernel)",
   "language": "python",
   "name": "python3"
  },
  "language_info": {
   "codemirror_mode": {
    "name": "ipython",
    "version": 3
   },
   "file_extension": ".py",
   "mimetype": "text/x-python",
   "name": "python",
   "nbconvert_exporter": "python",
   "pygments_lexer": "ipython3",
   "version": "3.9.13"
  }
 },
 "nbformat": 4,
 "nbformat_minor": 5
}
